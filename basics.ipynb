{
 "cells": [
  {
   "cell_type": "code",
   "execution_count": 1,
   "id": "e4d3ad88",
   "metadata": {},
   "outputs": [
    {
     "name": "stdout",
     "output_type": "stream",
     "text": [
      "Hello world\n"
     ]
    }
   ],
   "source": [
    "print(\"Hello world\")"
   ]
  },
  {
   "cell_type": "code",
   "execution_count": 2,
   "id": "db583962",
   "metadata": {},
   "outputs": [
    {
     "name": "stdout",
     "output_type": "stream",
     "text": [
      "Hello World\n"
     ]
    }
   ],
   "source": [
    "print(\"Hello\",\"World\")"
   ]
  },
  {
   "cell_type": "code",
   "execution_count": 3,
   "id": "3d65bf8f",
   "metadata": {},
   "outputs": [],
   "source": [
    "n1=10\n",
    "n2=20\n",
    "#Python is loosely typed programming language\n",
    "n1=\"Hello\"\n",
    "#Same variable can store different value at different times"
   ]
  },
  {
   "cell_type": "code",
   "execution_count": 4,
   "id": "4e564c6d",
   "metadata": {},
   "outputs": [
    {
     "name": "stdout",
     "output_type": "stream",
     "text": [
      "Hello\n"
     ]
    }
   ],
   "source": [
    "print(n1)"
   ]
  },
  {
   "cell_type": "code",
   "execution_count": 5,
   "id": "fc31b094",
   "metadata": {},
   "outputs": [
    {
     "name": "stdout",
     "output_type": "stream",
     "text": [
      "Enter a number:34\n",
      "34\n"
     ]
    }
   ],
   "source": [
    "n1=input(\"Enter a number:\")\n",
    "print(n1)"
   ]
  },
  {
   "cell_type": "code",
   "execution_count": 6,
   "id": "a5ec229a",
   "metadata": {},
   "outputs": [
    {
     "name": "stdout",
     "output_type": "stream",
     "text": [
      "<class 'str'>\n"
     ]
    }
   ],
   "source": [
    "print(type(n1))"
   ]
  },
  {
   "cell_type": "code",
   "execution_count": 7,
   "id": "543ce775",
   "metadata": {},
   "outputs": [],
   "source": [
    "n1=50"
   ]
  },
  {
   "cell_type": "code",
   "execution_count": 8,
   "id": "4f563f5b",
   "metadata": {},
   "outputs": [
    {
     "name": "stdout",
     "output_type": "stream",
     "text": [
      "<class 'int'>\n"
     ]
    }
   ],
   "source": [
    "print(type(n1))"
   ]
  },
  {
   "cell_type": "code",
   "execution_count": 9,
   "id": "f3e13f12",
   "metadata": {},
   "outputs": [
    {
     "name": "stdout",
     "output_type": "stream",
     "text": [
      "59 <class 'str'>\n",
      "59 <class 'int'>\n"
     ]
    }
   ],
   "source": [
    "n1=\"59\"\n",
    "print(n1,type(n1))\n",
    "n1=int(n1)#type casting\n",
    "print(n1,type(n1))"
   ]
  },
  {
   "cell_type": "code",
   "execution_count": 11,
   "id": "1af51ea4",
   "metadata": {},
   "outputs": [
    {
     "name": "stdout",
     "output_type": "stream",
     "text": [
      "12\n",
      "8\n",
      "20\n",
      "5.0\n",
      "100\n",
      "0\n"
     ]
    }
   ],
   "source": [
    "n1=10\n",
    "n2=2\n",
    "print(n1+n2)\n",
    "print(n1-n2)\n",
    "print(n1*n2)\n",
    "print(n1/n2)\n",
    "print(n1 ** n2)\n",
    "print(n1%n2)"
   ]
  },
  {
   "cell_type": "code",
   "execution_count": 13,
   "id": "aed44240",
   "metadata": {},
   "outputs": [
    {
     "name": "stdout",
     "output_type": "stream",
     "text": [
      "Enter mark:50\n",
      "50 C\n"
     ]
    }
   ],
   "source": [
    "mark = int(input(\"Enter mark:\"))\n",
    "grade=\"\"\n",
    "if mark > 100 or mark < 0:\n",
    "    grade=\"Invalid\"\n",
    "elif mark >=80:\n",
    "    grade=\"A\"\n",
    "elif mark >=60:\n",
    "    grade=\"B\"\n",
    "elif mark >=40:\n",
    "    grade=\"C\"\n",
    "else:\n",
    "    grade=\"D\"\n",
    "print(mark,grade)"
   ]
  },
  {
   "cell_type": "code",
   "execution_count": 14,
   "id": "e119d792",
   "metadata": {},
   "outputs": [
    {
     "name": "stdout",
     "output_type": "stream",
     "text": [
      "0\n",
      "1\n",
      "2\n",
      "3\n",
      "4\n"
     ]
    }
   ],
   "source": [
    "for i in range(5):\n",
    "    print(i)"
   ]
  },
  {
   "cell_type": "code",
   "execution_count": 15,
   "id": "87544c65",
   "metadata": {},
   "outputs": [
    {
     "name": "stdout",
     "output_type": "stream",
     "text": [
      "5\n",
      "6\n",
      "7\n",
      "8\n",
      "9\n"
     ]
    }
   ],
   "source": [
    "for i in range(5,10):\n",
    "    print(i)"
   ]
  },
  {
   "cell_type": "code",
   "execution_count": 16,
   "id": "14ca03a3",
   "metadata": {},
   "outputs": [],
   "source": [
    "def hello():\n",
    "    print(\"i am in function\")\n",
    "    print(\"hello\")"
   ]
  },
  {
   "cell_type": "code",
   "execution_count": 17,
   "id": "52368bdb",
   "metadata": {},
   "outputs": [
    {
     "name": "stdout",
     "output_type": "stream",
     "text": [
      "i am in function\n",
      "hello\n"
     ]
    }
   ],
   "source": [
    "hello()"
   ]
  },
  {
   "cell_type": "code",
   "execution_count": 18,
   "id": "470927d4",
   "metadata": {},
   "outputs": [],
   "source": [
    "def add(n1,n2):\n",
    "    return n1+n2"
   ]
  },
  {
   "cell_type": "code",
   "execution_count": 19,
   "id": "29c0c708",
   "metadata": {},
   "outputs": [
    {
     "name": "stdout",
     "output_type": "stream",
     "text": [
      "55\n"
     ]
    }
   ],
   "source": [
    "res=add(22,33)\n",
    "print(res)"
   ]
  },
  {
   "cell_type": "code",
   "execution_count": null,
   "id": "e9d746a5",
   "metadata": {},
   "outputs": [],
   "source": [
    "#List ---mutable, can contain duplicates\n",
    "#set-----mutable cannot contain duplicates\n",
    "#dict-----> key value pair\n",
    "#tuple---immutable"
   ]
  },
  {
   "cell_type": "code",
   "execution_count": 20,
   "id": "8a55a4d9",
   "metadata": {},
   "outputs": [
    {
     "name": "stdout",
     "output_type": "stream",
     "text": [
      "[20, 40, 60]\n"
     ]
    }
   ],
   "source": [
    "l1=list()\n",
    "l1=[]\n",
    "l1.append(20)\n",
    "l1.append(40)\n",
    "l1.append(60)\n",
    "print(l1)"
   ]
  },
  {
   "cell_type": "code",
   "execution_count": 21,
   "id": "e9cb4474",
   "metadata": {},
   "outputs": [
    {
     "name": "stdout",
     "output_type": "stream",
     "text": [
      "20\n"
     ]
    }
   ],
   "source": [
    "print(l1[0])"
   ]
  },
  {
   "cell_type": "code",
   "execution_count": 22,
   "id": "79ce150f",
   "metadata": {},
   "outputs": [
    {
     "name": "stdout",
     "output_type": "stream",
     "text": [
      "40\n"
     ]
    }
   ],
   "source": [
    "print(l1[1])"
   ]
  },
  {
   "cell_type": "code",
   "execution_count": 23,
   "id": "8530691c",
   "metadata": {},
   "outputs": [
    {
     "name": "stdout",
     "output_type": "stream",
     "text": [
      "20\n",
      "40\n",
      "60\n"
     ]
    }
   ],
   "source": [
    "for e in l1:\n",
    "    print(e)"
   ]
  },
  {
   "cell_type": "code",
   "execution_count": 24,
   "id": "4490b793",
   "metadata": {},
   "outputs": [],
   "source": [
    "l1.remove(40)#removes first occurence"
   ]
  },
  {
   "cell_type": "code",
   "execution_count": 25,
   "id": "8d898672",
   "metadata": {},
   "outputs": [
    {
     "name": "stdout",
     "output_type": "stream",
     "text": [
      "[20, 60]\n"
     ]
    }
   ],
   "source": [
    "print(l1)"
   ]
  },
  {
   "cell_type": "code",
   "execution_count": 26,
   "id": "e971721f",
   "metadata": {},
   "outputs": [
    {
     "data": {
      "text/plain": [
       "True"
      ]
     },
     "execution_count": 26,
     "metadata": {},
     "output_type": "execute_result"
    }
   ],
   "source": [
    "60 in l1"
   ]
  },
  {
   "cell_type": "code",
   "execution_count": 27,
   "id": "8771a5d3",
   "metadata": {},
   "outputs": [
    {
     "data": {
      "text/plain": [
       "False"
      ]
     },
     "execution_count": 27,
     "metadata": {},
     "output_type": "execute_result"
    }
   ],
   "source": [
    "70 in l1"
   ]
  },
  {
   "cell_type": "code",
   "execution_count": 28,
   "id": "a4e2cee2",
   "metadata": {},
   "outputs": [],
   "source": [
    "del l1[0]"
   ]
  },
  {
   "cell_type": "code",
   "execution_count": 29,
   "id": "90e5bb93",
   "metadata": {},
   "outputs": [
    {
     "name": "stdout",
     "output_type": "stream",
     "text": [
      "[60]\n"
     ]
    }
   ],
   "source": [
    "print(l1)"
   ]
  },
  {
   "cell_type": "code",
   "execution_count": 30,
   "id": "9778b80b",
   "metadata": {},
   "outputs": [],
   "source": [
    "l1[0]=34"
   ]
  },
  {
   "cell_type": "code",
   "execution_count": 31,
   "id": "8b468cf0",
   "metadata": {},
   "outputs": [
    {
     "name": "stdout",
     "output_type": "stream",
     "text": [
      "[34]\n"
     ]
    }
   ],
   "source": [
    "print(l1)"
   ]
  },
  {
   "cell_type": "code",
   "execution_count": 32,
   "id": "7c00b500",
   "metadata": {},
   "outputs": [],
   "source": [
    "s1=set()\n",
    "s1.add(20)\n",
    "s1.add(20)"
   ]
  },
  {
   "cell_type": "code",
   "execution_count": 33,
   "id": "b64ad2c7",
   "metadata": {},
   "outputs": [
    {
     "name": "stdout",
     "output_type": "stream",
     "text": [
      "{20}\n"
     ]
    }
   ],
   "source": [
    "print(s1)"
   ]
  },
  {
   "cell_type": "code",
   "execution_count": 34,
   "id": "4a0ee98f",
   "metadata": {},
   "outputs": [
    {
     "name": "stdout",
     "output_type": "stream",
     "text": [
      "{10, 20, 30}\n"
     ]
    }
   ],
   "source": [
    "s2={10,20,30}\n",
    "print(s2)"
   ]
  },
  {
   "cell_type": "code",
   "execution_count": 35,
   "id": "0a967f14",
   "metadata": {},
   "outputs": [],
   "source": [
    "d1={}\n",
    "d1=dict()"
   ]
  },
  {
   "cell_type": "code",
   "execution_count": 36,
   "id": "21c5f3c1",
   "metadata": {},
   "outputs": [
    {
     "name": "stdout",
     "output_type": "stream",
     "text": [
      "{'US': 'United states', 'UK': 'United kingdom'}\n"
     ]
    }
   ],
   "source": [
    "d1['US']='United states'\n",
    "d1['UK']='United kingdom'\n",
    "print(d1)"
   ]
  },
  {
   "cell_type": "code",
   "execution_count": 37,
   "id": "00200a84",
   "metadata": {},
   "outputs": [],
   "source": [
    "del d1['US']"
   ]
  },
  {
   "cell_type": "code",
   "execution_count": 38,
   "id": "27b62df4",
   "metadata": {},
   "outputs": [
    {
     "name": "stdout",
     "output_type": "stream",
     "text": [
      "{'UK': 'United kingdom'}\n"
     ]
    }
   ],
   "source": [
    "print(d1)"
   ]
  },
  {
   "cell_type": "code",
   "execution_count": null,
   "id": "a963f700",
   "metadata": {},
   "outputs": [],
   "source": [
    "class Point:\n",
    "    def __init__(self, x = 0, y = 0):\n",
    "        self.x = x\n",
    "        self.y = y\n",
    "    \n",
    "    def __str__(self):\n",
    "        return \"({0},{1})\".format(self.x,self.y)\n",
    "    \n",
    "    def __lt__(self,other):\n",
    "        self_mag = (self.x ** 2) + (self.y ** 2)\n",
    "        other_mag = (other.x ** 2) + (other.y ** 2)\n",
    "        return self_mag < other_mag\n",
    "\n",
    "print(Point(1,1) < Point(-2,-3))\n",
    "##\n",
    "##\n",
    "##Less than \tp1 < p2 \tp1.__lt__(p2)\n",
    "##Less than or equal to \tp1 <= p2 \tp1.__le__(p2)\n",
    "##\n",
    "##Equal to\n",
    "##    p1 == p2 \tp1.__eq__(p2)\n",
    "##Not equal to \tp1 != p2 \tp1.__ne__(p2)\n",
    "##Greater than \tp1 > p2 \tp1.__gt__(p2)\n",
    "##Greater than or equal to \tp1 >= p2 \tp1.__ge__(p2)\n"
   ]
  },
  {
   "cell_type": "code",
   "execution_count": null,
   "id": "9f86346a",
   "metadata": {},
   "outputs": [],
   "source": []
  },
  {
   "cell_type": "code",
   "execution_count": null,
   "id": "b38dfd60",
   "metadata": {},
   "outputs": [],
   "source": []
  }
 ],
 "metadata": {
  "kernelspec": {
   "display_name": "Python 3",
   "language": "python",
   "name": "python3"
  },
  "language_info": {
   "codemirror_mode": {
    "name": "ipython",
    "version": 3
   },
   "file_extension": ".py",
   "mimetype": "text/x-python",
   "name": "python",
   "nbconvert_exporter": "python",
   "pygments_lexer": "ipython3",
   "version": "3.8.8"
  }
 },
 "nbformat": 4,
 "nbformat_minor": 5
}
