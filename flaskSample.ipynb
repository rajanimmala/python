{
 "cells": [
  {
   "cell_type": "code",
   "execution_count": null,
   "id": "8983e60d",
   "metadata": {},
   "outputs": [],
   "source": [
    "from flask import Flask\n",
    "app = Flask(__name__)"
   ]
  },
  {
   "cell_type": "code",
   "execution_count": null,
   "id": "60b1e8e9",
   "metadata": {},
   "outputs": [],
   "source": [
    "\n",
    "@app.route(\"/\")\n",
    "def hello_world():\n",
    "    return \"Hello world\"\n",
    "\n",
    "@app.route(\"/welcome\")\n",
    "def welcome_message():\n",
    "    return \"Welcome from Flask\"\n",
    "\n",
    "#Path parameters is passed as an url\n",
    "@app.route(\"/hello/<username>\")\n",
    "def hello_user(username):\n",
    "    return \"Welcome \"+username +\" using Path Param\"\n",
    "\n",
    "#Path params\n",
    "@app.route('/blog/<int:postID>')\n",
    "def show_blog(postID):\n",
    "    return 'Blog Number '+ str(postID)\n",
    "\n",
    "@app.route('/rev/<float:revNo>')\n",
    "def revision(revNo):\n",
    "    return 'Revision Number ' + str(revNo)\n",
    "\n",
    "\n",
    "app.run()"
   ]
  },
  {
   "cell_type": "code",
   "execution_count": null,
   "id": "b9c28387",
   "metadata": {},
   "outputs": [],
   "source": [
    "help(app.run)"
   ]
  },
  {
   "cell_type": "code",
   "execution_count": null,
   "id": "a69b08fa",
   "metadata": {},
   "outputs": [],
   "source": [
    "help(Flask)"
   ]
  },
  {
   "cell_type": "code",
   "execution_count": null,
   "id": "00f73ea2",
   "metadata": {},
   "outputs": [],
   "source": [
    "from flask import Flask, redirect, url_for\n",
    "app = Flask(__name__)\n",
    "\n",
    "@app.route('/admin')\n",
    "def hello_admin():\n",
    "    return 'Hello Admin'\n",
    "\n",
    "@app.route('/guest/<guest>')\n",
    "def hello_guest(guest):\n",
    "    return 'Hello '+ guest +\" as guest\"\n",
    "\n",
    "#Redirect provides an ability to mov from one url to another\n",
    "@app.route('/user/<name>')\n",
    "def hello_user(name):\n",
    "    if name =='admin':\n",
    "        return redirect(url_for('hello_admin'))\n",
    "    else:\n",
    "        return redirect(url_for('hello_guest',guest = name))\n",
    "    \n",
    "app.run()\n"
   ]
  },
  {
   "cell_type": "code",
   "execution_count": null,
   "id": "573a7b2c",
   "metadata": {},
   "outputs": [],
   "source": [
    "from flask import Flask, redirect, url_for,request\n",
    "app = Flask(__name__)\n",
    "\n",
    "@app.route(\"/hello\")\n",
    "def hello():\n",
    "    #This retrives query parameter in form dictionary\n",
    "    return request.args\n",
    "\n",
    "@app.route('/postsample',methods = ['POST'])\n",
    "def index():\n",
    "    #Function is used to retrive data from message body\n",
    "    content=request.get_json()\n",
    "    return content\n",
    "app.run()"
   ]
  },
  {
   "cell_type": "code",
   "execution_count": null,
   "id": "b6002ef8",
   "metadata": {},
   "outputs": [],
   "source": [
    "from flask import Flask, redirect, url_for,request,jsonify\n",
    "app = Flask(__name__)\n",
    "\n",
    "studentData =[]\n",
    "\n",
    "@app.errorhandler(404)\n",
    "def notfound(e):\n",
    "    print(e)\n",
    "    return jsonify({\"page\":\"absent\"})\n",
    "\n",
    "@app.route(\"/student\",methods=['GET','POST'])\n",
    "def students():\n",
    "    if request.method == 'GET':\n",
    "        #Used to convert from python object to json representation\n",
    "        return jsonify(studentData)\n",
    "    elif request.method=='POST':\n",
    "        data = request.get_json()\n",
    "        studentData.append(data)\n",
    "        return {\"success\":True}\n",
    "    else:\n",
    "        return {\"success\":False}\n",
    "\n",
    "app.run()"
   ]
  },
  {
   "cell_type": "code",
   "execution_count": null,
   "id": "bb9660fb",
   "metadata": {},
   "outputs": [],
   "source": [
    "from flask import Flask, redirect, url_for,render_template"
   ]
  },
  {
   "cell_type": "code",
   "execution_count": null,
   "id": "de0ffac8",
   "metadata": {
    "scrolled": true
   },
   "outputs": [],
   "source": [
    "app = Flask(__name__)\n",
    "\n",
    "@app.route(\"/\")\n",
    "def displayHtml():\n",
    "    return render_template(\"hello.html\")\n",
    "app.run()"
   ]
  },
  {
   "cell_type": "code",
   "execution_count": null,
   "id": "de64e7b2",
   "metadata": {},
   "outputs": [],
   "source": [
    "help(render_template)"
   ]
  },
  {
   "cell_type": "code",
   "execution_count": null,
   "id": "85de708a",
   "metadata": {},
   "outputs": [],
   "source": [
    "from flask import Flask, redirect, url_for,render_template,request,jsonify\n",
    "app = Flask(__name__)\n",
    "import mysql.connector\n",
    "\n",
    "mydb = mysql.connector.connect(\n",
    "  host=\"localhost\",\n",
    "  user=\"root\",\n",
    "  passwd=\"root\",\n",
    "  database=\"pymsql\"\n",
    ")\n",
    "\n",
    "@app.route(\"/hi\")\n",
    "def hi():\n",
    "    return \"Hi\"\n",
    "\n",
    "@app.route(\"/list\")\n",
    "def listCustomer():\n",
    "    sql = \"SELECT * FROM customers ORDER BY name DESC\"\n",
    "    mycursor = mydb.cursor()\n",
    "    mycursor.execute(sql)\n",
    "    myresult = mycursor.fetchall()\n",
    "    return jsonify(myresult)\n",
    "\n",
    "        \n",
    "\n",
    "app.run()\n"
   ]
  },
  {
   "cell_type": "code",
   "execution_count": null,
   "id": "91d8ca73",
   "metadata": {},
   "outputs": [],
   "source": []
  }
 ],
 "metadata": {
  "kernelspec": {
   "display_name": "Python 3",
   "language": "python",
   "name": "python3"
  },
  "language_info": {
   "codemirror_mode": {
    "name": "ipython",
    "version": 3
   },
   "file_extension": ".py",
   "mimetype": "text/x-python",
   "name": "python",
   "nbconvert_exporter": "python",
   "pygments_lexer": "ipython3",
   "version": "3.8.8"
  }
 },
 "nbformat": 4,
 "nbformat_minor": 5
}
