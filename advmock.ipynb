{
 "cells": [
  {
   "cell_type": "code",
   "execution_count": 1,
   "id": "ae10faec",
   "metadata": {},
   "outputs": [],
   "source": [
    "from unittest.mock import Mock"
   ]
  },
  {
   "cell_type": "code",
   "execution_count": 2,
   "id": "77ea3fd5",
   "metadata": {},
   "outputs": [],
   "source": [
    "mock=Mock()"
   ]
  },
  {
   "cell_type": "code",
   "execution_count": 3,
   "id": "76a1e42e",
   "metadata": {},
   "outputs": [
    {
     "data": {
      "text/plain": [
       "<Mock id='2484912837536'>"
      ]
     },
     "execution_count": 3,
     "metadata": {},
     "output_type": "execute_result"
    }
   ],
   "source": [
    "mock"
   ]
  },
  {
   "cell_type": "code",
   "execution_count": 4,
   "id": "fcfc00a7",
   "metadata": {},
   "outputs": [],
   "source": [
    "json=Mock()"
   ]
  },
  {
   "cell_type": "code",
   "execution_count": 5,
   "id": "bfe0df2a",
   "metadata": {},
   "outputs": [
    {
     "data": {
      "text/plain": [
       "<Mock name='mock.dumps()' id='2484912971984'>"
      ]
     },
     "execution_count": 5,
     "metadata": {},
     "output_type": "execute_result"
    }
   ],
   "source": [
    "json.dumps()"
   ]
  },
  {
   "cell_type": "code",
   "execution_count": 6,
   "id": "360acead",
   "metadata": {},
   "outputs": [
    {
     "data": {
      "text/plain": [
       "<Mock name='mock.loads().get()' id='2484912972992'>"
      ]
     },
     "execution_count": 6,
     "metadata": {},
     "output_type": "execute_result"
    }
   ],
   "source": [
    "json.loads({\"k\":\"v\"}).get(\"k\")"
   ]
  },
  {
   "cell_type": "code",
   "execution_count": 7,
   "id": "1e3712d8",
   "metadata": {},
   "outputs": [],
   "source": [
    "json.loads.assert_called()"
   ]
  },
  {
   "cell_type": "code",
   "execution_count": 12,
   "id": "47479017",
   "metadata": {},
   "outputs": [],
   "source": [
    "json.loads.assert_called_with({'k':'v'})"
   ]
  },
  {
   "cell_type": "code",
   "execution_count": 25,
   "id": "bdfde79c",
   "metadata": {},
   "outputs": [],
   "source": [
    "import datetime"
   ]
  },
  {
   "cell_type": "code",
   "execution_count": 14,
   "id": "6b986bbf",
   "metadata": {},
   "outputs": [],
   "source": [
    "tuesday=datetime.datetime(year=2019,month=1,day=1)"
   ]
  },
  {
   "cell_type": "code",
   "execution_count": 27,
   "id": "3e343fc6",
   "metadata": {},
   "outputs": [],
   "source": [
    "datetime=Mock()"
   ]
  },
  {
   "cell_type": "code",
   "execution_count": 19,
   "id": "2c2849c7",
   "metadata": {},
   "outputs": [],
   "source": [
    "def is_weekday():\n",
    "    today=datetime.datetime.today()\n",
    "    return (0<=today.weekday()<5)"
   ]
  },
  {
   "cell_type": "code",
   "execution_count": 20,
   "id": "c814f2b9",
   "metadata": {},
   "outputs": [],
   "source": [
    "datetime.datetime.today.return_value=tuesday"
   ]
  },
  {
   "cell_type": "code",
   "execution_count": 21,
   "id": "13f53b6e",
   "metadata": {},
   "outputs": [],
   "source": [
    "assert is_weekday()"
   ]
  },
  {
   "cell_type": "code",
   "execution_count": 26,
   "id": "6d18af45",
   "metadata": {},
   "outputs": [],
   "source": [
    "sun=datetime.datetime(year=2023,month=2,day=19)"
   ]
  },
  {
   "cell_type": "code",
   "execution_count": 28,
   "id": "e2674f38",
   "metadata": {},
   "outputs": [],
   "source": [
    "datetime.datetime.today.return_value=sun"
   ]
  },
  {
   "cell_type": "code",
   "execution_count": 29,
   "id": "c0787b6b",
   "metadata": {},
   "outputs": [],
   "source": [
    "assert not is_weekday()"
   ]
  },
  {
   "cell_type": "code",
   "execution_count": null,
   "id": "19d0cc52",
   "metadata": {},
   "outputs": [],
   "source": []
  }
 ],
 "metadata": {
  "kernelspec": {
   "display_name": "Python 3",
   "language": "python",
   "name": "python3"
  },
  "language_info": {
   "codemirror_mode": {
    "name": "ipython",
    "version": 3
   },
   "file_extension": ".py",
   "mimetype": "text/x-python",
   "name": "python",
   "nbconvert_exporter": "python",
   "pygments_lexer": "ipython3",
   "version": "3.8.8"
  }
 },
 "nbformat": 4,
 "nbformat_minor": 5
}
