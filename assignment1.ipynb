{
 "cells": [
  {
   "cell_type": "code",
   "execution_count": 1,
   "id": "b9624a19",
   "metadata": {},
   "outputs": [
    {
     "name": "stdout",
     "output_type": "stream",
     "text": [
      "2\n"
     ]
    }
   ],
   "source": [
    "list=[10,25,3,2]\n",
    "min=list[0]\n",
    "for element in list:\n",
    "    if min>element:\n",
    "        min=element\n",
    "print(min)\n"
   ]
  },
  {
   "cell_type": "code",
   "execution_count": 3,
   "id": "cae9c078",
   "metadata": {},
   "outputs": [
    {
     "name": "stdout",
     "output_type": "stream",
     "text": [
      "0\n",
      "0\n",
      "1\n",
      "1\n",
      "2\n",
      "4\n",
      "3\n",
      "9\n",
      "4\n",
      "16\n",
      "5\n",
      "25\n",
      "6\n",
      "36\n",
      "7\n",
      "49\n",
      "8\n",
      "64\n",
      "9\n",
      "81\n",
      "main\n"
     ]
    }
   ],
   "source": [
    "for i in range(10):\n",
    "    print(i)\n",
    "    print(i*i)\n",
    "    \n",
    "print('main')"
   ]
  },
  {
   "cell_type": "code",
   "execution_count": 4,
   "id": "c0a762ea",
   "metadata": {},
   "outputs": [],
   "source": [
    "list1 = [\"Hello \", \"take \"]\n",
    "list2 = [\"Dear\", \"Sir\"]"
   ]
  },
  {
   "cell_type": "code",
   "execution_count": 5,
   "id": "e3a1b28d",
   "metadata": {},
   "outputs": [],
   "source": [
    "resultlist=[]\n",
    "length=len(list1)\n",
    "\n"
   ]
  },
  {
   "cell_type": "code",
   "execution_count": 6,
   "id": "93afdd59",
   "metadata": {},
   "outputs": [],
   "source": [
    "for i in range(length):\n",
    "    resultlist.append(list1[i]+\" \"+list2[i])"
   ]
  },
  {
   "cell_type": "code",
   "execution_count": 7,
   "id": "0d839269",
   "metadata": {},
   "outputs": [
    {
     "data": {
      "text/plain": [
       "['Hello  Dear', 'take  Sir']"
      ]
     },
     "execution_count": 7,
     "metadata": {},
     "output_type": "execute_result"
    }
   ],
   "source": [
    "resultlist"
   ]
  },
  {
   "cell_type": "code",
   "execution_count": 9,
   "id": "4bed6cbe",
   "metadata": {},
   "outputs": [],
   "source": [
    "rs=[]\n",
    "for e1 in list1:\n",
    "    for e2 in list2:\n",
    "        rs.append(e1+\" \"+e2)\n",
    "        "
   ]
  },
  {
   "cell_type": "code",
   "execution_count": 10,
   "id": "e014729b",
   "metadata": {},
   "outputs": [
    {
     "data": {
      "text/plain": [
       "['Hello  Dear', 'Hello  Sir', 'take  Dear', 'take  Sir']"
      ]
     },
     "execution_count": 10,
     "metadata": {},
     "output_type": "execute_result"
    }
   ],
   "source": [
    "rs"
   ]
  },
  {
   "cell_type": "code",
   "execution_count": 20,
   "id": "cdb82165",
   "metadata": {},
   "outputs": [],
   "source": [
    "\n",
    "list1 = [10, 20, 30, 40]\n",
    "list2 = [100, 200, 300, 400]"
   ]
  },
  {
   "cell_type": "code",
   "execution_count": 21,
   "id": "a4568d18",
   "metadata": {},
   "outputs": [],
   "source": [
    "list3=list1.copy()"
   ]
  },
  {
   "cell_type": "code",
   "execution_count": 22,
   "id": "4203a9be",
   "metadata": {},
   "outputs": [],
   "source": [
    "list2.reverse()"
   ]
  },
  {
   "cell_type": "code",
   "execution_count": 23,
   "id": "bfacc531",
   "metadata": {},
   "outputs": [],
   "source": [
    "list3.extend(list2)"
   ]
  },
  {
   "cell_type": "code",
   "execution_count": 24,
   "id": "5c8ff369",
   "metadata": {},
   "outputs": [
    {
     "data": {
      "text/plain": [
       "[10, 20, 30, 40, 400, 300, 200, 100]"
      ]
     },
     "execution_count": 24,
     "metadata": {},
     "output_type": "execute_result"
    }
   ],
   "source": [
    "list3"
   ]
  },
  {
   "cell_type": "code",
   "execution_count": 25,
   "id": "2f8baa78",
   "metadata": {},
   "outputs": [
    {
     "name": "stdout",
     "output_type": "stream",
     "text": [
      "10\n",
      "20\n",
      "30\n",
      "40\n",
      "400\n",
      "300\n",
      "200\n",
      "100\n"
     ]
    }
   ],
   "source": [
    "for e in list3:\n",
    "    print(e)"
   ]
  },
  {
   "cell_type": "code",
   "execution_count": 26,
   "id": "35a96d5a",
   "metadata": {},
   "outputs": [],
   "source": [
    "list1 = [\"Mike\", \"\", \"Emma\", \"Kelly\", \"\", \"Brad\"]"
   ]
  },
  {
   "cell_type": "code",
   "execution_count": 27,
   "id": "6705ccda",
   "metadata": {},
   "outputs": [],
   "source": [
    "while \"\" in list1:\n",
    "    list1.remove(\"\")"
   ]
  },
  {
   "cell_type": "code",
   "execution_count": 28,
   "id": "b7eef8b5",
   "metadata": {},
   "outputs": [
    {
     "data": {
      "text/plain": [
       "['Mike', 'Emma', 'Kelly', 'Brad']"
      ]
     },
     "execution_count": 28,
     "metadata": {},
     "output_type": "execute_result"
    }
   ],
   "source": [
    "list1"
   ]
  },
  {
   "cell_type": "code",
   "execution_count": 29,
   "id": "777607a2",
   "metadata": {},
   "outputs": [],
   "source": [
    "list1 = [10, 20, [300, 400, [5000, 6000], 500], 30, 40]"
   ]
  },
  {
   "cell_type": "code",
   "execution_count": 30,
   "id": "fecd9084",
   "metadata": {},
   "outputs": [
    {
     "data": {
      "text/plain": [
       "[300, 400, [5000, 6000], 500]"
      ]
     },
     "execution_count": 30,
     "metadata": {},
     "output_type": "execute_result"
    }
   ],
   "source": [
    "list1[2]"
   ]
  },
  {
   "cell_type": "code",
   "execution_count": 31,
   "id": "d38b910d",
   "metadata": {},
   "outputs": [
    {
     "data": {
      "text/plain": [
       "[5000, 6000]"
      ]
     },
     "execution_count": 31,
     "metadata": {},
     "output_type": "execute_result"
    }
   ],
   "source": [
    "list1[2][2]"
   ]
  },
  {
   "cell_type": "code",
   "execution_count": 32,
   "id": "4dc7a717",
   "metadata": {},
   "outputs": [],
   "source": [
    "list1[2][2].append(7000)"
   ]
  },
  {
   "cell_type": "code",
   "execution_count": 33,
   "id": "e6fa31d6",
   "metadata": {},
   "outputs": [
    {
     "data": {
      "text/plain": [
       "[10, 20, [300, 400, [5000, 6000, 7000], 500], 30, 40]"
      ]
     },
     "execution_count": 33,
     "metadata": {},
     "output_type": "execute_result"
    }
   ],
   "source": [
    "list1"
   ]
  },
  {
   "cell_type": "code",
   "execution_count": 34,
   "id": "9b127745",
   "metadata": {},
   "outputs": [],
   "source": [
    "\n",
    "list1 = [\"a\", \"b\", [\"c\", [\"d\", \"e\", [\"f\", \"g\"], \"k\"], \"l\"], \"m\", \"n\"]"
   ]
  },
  {
   "cell_type": "code",
   "execution_count": 35,
   "id": "0d10e1ab",
   "metadata": {},
   "outputs": [],
   "source": [
    "sub=[\"h\", \"i\", \"j\"]"
   ]
  },
  {
   "cell_type": "code",
   "execution_count": 36,
   "id": "92d0df1c",
   "metadata": {},
   "outputs": [
    {
     "data": {
      "text/plain": [
       "['c', ['d', 'e', ['f', 'g'], 'k'], 'l']"
      ]
     },
     "execution_count": 36,
     "metadata": {},
     "output_type": "execute_result"
    }
   ],
   "source": [
    "list1[2]"
   ]
  },
  {
   "cell_type": "code",
   "execution_count": 37,
   "id": "b44e2f82",
   "metadata": {},
   "outputs": [
    {
     "data": {
      "text/plain": [
       "['d', 'e', ['f', 'g'], 'k']"
      ]
     },
     "execution_count": 37,
     "metadata": {},
     "output_type": "execute_result"
    }
   ],
   "source": [
    "list1[2][1]"
   ]
  },
  {
   "cell_type": "code",
   "execution_count": 38,
   "id": "eeaf4929",
   "metadata": {},
   "outputs": [
    {
     "data": {
      "text/plain": [
       "['f', 'g']"
      ]
     },
     "execution_count": 38,
     "metadata": {},
     "output_type": "execute_result"
    }
   ],
   "source": [
    "list1[2][1][2]"
   ]
  },
  {
   "cell_type": "code",
   "execution_count": 39,
   "id": "4bea6fec",
   "metadata": {},
   "outputs": [],
   "source": [
    "list1[2][1][2].extend(sub)"
   ]
  },
  {
   "cell_type": "code",
   "execution_count": 40,
   "id": "59a9d81d",
   "metadata": {},
   "outputs": [
    {
     "data": {
      "text/plain": [
       "['a', 'b', ['c', ['d', 'e', ['f', 'g', 'h', 'i', 'j'], 'k'], 'l'], 'm', 'n']"
      ]
     },
     "execution_count": 40,
     "metadata": {},
     "output_type": "execute_result"
    }
   ],
   "source": [
    "list1"
   ]
  },
  {
   "cell_type": "code",
   "execution_count": 41,
   "id": "6b470c19",
   "metadata": {},
   "outputs": [],
   "source": [
    "\n",
    "list1 = [\"a\", \"b\", [\"c\", [\"d\", \"e\", [\"f\", \"g\"], \"k\"], \"l\"], \"m\", \"n\"]"
   ]
  },
  {
   "cell_type": "code",
   "execution_count": 42,
   "id": "38c14159",
   "metadata": {},
   "outputs": [],
   "source": [
    "list1[2][1][2].append(sub)"
   ]
  },
  {
   "cell_type": "code",
   "execution_count": 43,
   "id": "89b60004",
   "metadata": {},
   "outputs": [
    {
     "data": {
      "text/plain": [
       "['a', 'b', ['c', ['d', 'e', ['f', 'g', ['h', 'i', 'j']], 'k'], 'l'], 'm', 'n']"
      ]
     },
     "execution_count": 43,
     "metadata": {},
     "output_type": "execute_result"
    }
   ],
   "source": [
    "list1"
   ]
  },
  {
   "cell_type": "code",
   "execution_count": 44,
   "id": "a26425d5",
   "metadata": {},
   "outputs": [
    {
     "name": "stdout",
     "output_type": "stream",
     "text": [
      "0\n",
      "1\n",
      "2\n",
      "3\n",
      "4\n"
     ]
    }
   ],
   "source": [
    "for i in range(10):\n",
    "    if i ==5:\n",
    "        break\n",
    "    print(i)"
   ]
  },
  {
   "cell_type": "code",
   "execution_count": 45,
   "id": "9a56e0bc",
   "metadata": {},
   "outputs": [],
   "source": [
    "list1 = [5, 10, 15, 20, 25, 50, 20]\n",
    "\n",
    "for i,v in enumerate(list1):\n",
    "    if v==20:\n",
    "        list1[i]=200\n",
    "        break"
   ]
  },
  {
   "cell_type": "code",
   "execution_count": 46,
   "id": "0ac6e8e1",
   "metadata": {},
   "outputs": [
    {
     "data": {
      "text/plain": [
       "[5, 10, 15, 200, 25, 50, 20]"
      ]
     },
     "execution_count": 46,
     "metadata": {},
     "output_type": "execute_result"
    }
   ],
   "source": [
    "list1"
   ]
  },
  {
   "cell_type": "code",
   "execution_count": 49,
   "id": "b18710ba",
   "metadata": {},
   "outputs": [],
   "source": [
    "list1 = [5, 10, 15, 20, 25, 50, 20]\n",
    "list1[list1.index(20)]=200"
   ]
  },
  {
   "cell_type": "code",
   "execution_count": 50,
   "id": "edda74f8",
   "metadata": {},
   "outputs": [
    {
     "data": {
      "text/plain": [
       "[5, 10, 15, 200, 25, 50, 20]"
      ]
     },
     "execution_count": 50,
     "metadata": {},
     "output_type": "execute_result"
    }
   ],
   "source": [
    "list1"
   ]
  },
  {
   "cell_type": "code",
   "execution_count": null,
   "id": "8bcb36eb",
   "metadata": {},
   "outputs": [],
   "source": []
  }
 ],
 "metadata": {
  "kernelspec": {
   "display_name": "Python 3",
   "language": "python",
   "name": "python3"
  },
  "language_info": {
   "codemirror_mode": {
    "name": "ipython",
    "version": 3
   },
   "file_extension": ".py",
   "mimetype": "text/x-python",
   "name": "python",
   "nbconvert_exporter": "python",
   "pygments_lexer": "ipython3",
   "version": "3.8.8"
  }
 },
 "nbformat": 4,
 "nbformat_minor": 5
}
