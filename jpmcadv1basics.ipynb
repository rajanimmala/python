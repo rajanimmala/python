{
 "cells": [
  {
   "cell_type": "code",
   "execution_count": 1,
   "id": "848fd764",
   "metadata": {},
   "outputs": [
    {
     "name": "stdout",
     "output_type": "stream",
     "text": [
      "hello <class 'str'>\n"
     ]
    }
   ],
   "source": [
    "a = \"hello\"\n",
    "print(a,type(a))"
   ]
  },
  {
   "cell_type": "code",
   "execution_count": 2,
   "id": "189d36c0",
   "metadata": {},
   "outputs": [
    {
     "name": "stdout",
     "output_type": "stream",
     "text": [
      "10 <class 'int'>\n"
     ]
    }
   ],
   "source": [
    "a=10\n",
    "print(a,type(a))"
   ]
  },
  {
   "cell_type": "code",
   "execution_count": 3,
   "id": "17145266",
   "metadata": {},
   "outputs": [
    {
     "name": "stdout",
     "output_type": "stream",
     "text": [
      "Enter number44\n",
      "44 <class 'str'>\n"
     ]
    }
   ],
   "source": [
    "a=input(\"Enter number\")\n",
    "print(a,type(a))"
   ]
  },
  {
   "cell_type": "code",
   "execution_count": 4,
   "id": "df2b67f2",
   "metadata": {},
   "outputs": [
    {
     "name": "stdout",
     "output_type": "stream",
     "text": [
      "1.14 <class 'float'>\n"
     ]
    }
   ],
   "source": [
    "a = \"1.14\"\n",
    "a = float(a)\n",
    "print(a,type(a))"
   ]
  },
  {
   "cell_type": "code",
   "execution_count": 5,
   "id": "3f7d0841",
   "metadata": {},
   "outputs": [
    {
     "name": "stdout",
     "output_type": "stream",
     "text": [
      "Enter number44\n",
      "44 <class 'int'>\n"
     ]
    }
   ],
   "source": [
    "a = int(input(\"Enter number\"))\n",
    "print(a,type(a))"
   ]
  },
  {
   "cell_type": "code",
   "execution_count": 6,
   "id": "8dc1a7f8",
   "metadata": {},
   "outputs": [
    {
     "name": "stdout",
     "output_type": "stream",
     "text": [
      "10 greater than 9\n"
     ]
    }
   ],
   "source": [
    "if 10 > 9:\n",
    "    print(10,\"greater than\",9)\n",
    "elif 10 > 6:\n",
    "    print(10,\"greater than\",6)\n",
    "else:\n",
    "    print(\"here\")"
   ]
  },
  {
   "cell_type": "code",
   "execution_count": 7,
   "id": "14e10f83",
   "metadata": {},
   "outputs": [
    {
     "name": "stdout",
     "output_type": "stream",
     "text": [
      "0\n",
      "1\n",
      "2\n",
      "3\n"
     ]
    }
   ],
   "source": [
    "for i in range(4):\n",
    "    print(i)"
   ]
  },
  {
   "cell_type": "code",
   "execution_count": 8,
   "id": "97dfb5fa",
   "metadata": {},
   "outputs": [
    {
     "name": "stdout",
     "output_type": "stream",
     "text": [
      "2\n",
      "3\n"
     ]
    }
   ],
   "source": [
    "for i in range(2,4):\n",
    "    print(i)"
   ]
  },
  {
   "cell_type": "code",
   "execution_count": 9,
   "id": "3a3420aa",
   "metadata": {},
   "outputs": [],
   "source": [
    "def add(a,b):\n",
    "    return a+b"
   ]
  },
  {
   "cell_type": "code",
   "execution_count": 10,
   "id": "7d4b6df2",
   "metadata": {},
   "outputs": [
    {
     "name": "stdout",
     "output_type": "stream",
     "text": [
      "66\n"
     ]
    }
   ],
   "source": [
    "print(add(22,44))"
   ]
  },
  {
   "cell_type": "code",
   "execution_count": 11,
   "id": "4a8916e0",
   "metadata": {},
   "outputs": [],
   "source": [
    "l1 = []\n",
    "l1 = list()"
   ]
  },
  {
   "cell_type": "code",
   "execution_count": 12,
   "id": "7176a2f7",
   "metadata": {},
   "outputs": [],
   "source": [
    "l1.append(22)\n",
    "l1.append(45)"
   ]
  },
  {
   "cell_type": "code",
   "execution_count": 13,
   "id": "eaf6710e",
   "metadata": {},
   "outputs": [
    {
     "name": "stdout",
     "output_type": "stream",
     "text": [
      "[22, 45]\n"
     ]
    }
   ],
   "source": [
    "print(l1)"
   ]
  },
  {
   "cell_type": "code",
   "execution_count": 14,
   "id": "fe5cf1ad",
   "metadata": {},
   "outputs": [
    {
     "data": {
      "text/plain": [
       "22"
      ]
     },
     "execution_count": 14,
     "metadata": {},
     "output_type": "execute_result"
    }
   ],
   "source": [
    "l1[0]"
   ]
  },
  {
   "cell_type": "code",
   "execution_count": 15,
   "id": "65645881",
   "metadata": {},
   "outputs": [
    {
     "data": {
      "text/plain": [
       "45"
      ]
     },
     "execution_count": 15,
     "metadata": {},
     "output_type": "execute_result"
    }
   ],
   "source": [
    "l1[1]"
   ]
  },
  {
   "cell_type": "code",
   "execution_count": 16,
   "id": "749aeafd",
   "metadata": {},
   "outputs": [],
   "source": [
    "l1[0]=24\n",
    "l1[1]=60"
   ]
  },
  {
   "cell_type": "code",
   "execution_count": 17,
   "id": "2dd6dab6",
   "metadata": {},
   "outputs": [
    {
     "name": "stdout",
     "output_type": "stream",
     "text": [
      "[24, 60]\n"
     ]
    }
   ],
   "source": [
    "print(l1)"
   ]
  },
  {
   "cell_type": "code",
   "execution_count": 18,
   "id": "8c1ed865",
   "metadata": {},
   "outputs": [
    {
     "name": "stdout",
     "output_type": "stream",
     "text": [
      "[60]\n"
     ]
    }
   ],
   "source": [
    "l1.remove(24)\n",
    "print(l1)"
   ]
  },
  {
   "cell_type": "code",
   "execution_count": 19,
   "id": "dd447028",
   "metadata": {},
   "outputs": [],
   "source": [
    "l2 = [24,24,25]"
   ]
  },
  {
   "cell_type": "code",
   "execution_count": 20,
   "id": "b62a128b",
   "metadata": {},
   "outputs": [
    {
     "data": {
      "text/plain": [
       "True"
      ]
     },
     "execution_count": 20,
     "metadata": {},
     "output_type": "execute_result"
    }
   ],
   "source": [
    "24 in l2"
   ]
  },
  {
   "cell_type": "code",
   "execution_count": 21,
   "id": "1b68968a",
   "metadata": {},
   "outputs": [],
   "source": [
    "while 24 in l2:\n",
    "    l2.remove(24)"
   ]
  },
  {
   "cell_type": "code",
   "execution_count": 22,
   "id": "6007ab7d",
   "metadata": {},
   "outputs": [
    {
     "name": "stdout",
     "output_type": "stream",
     "text": [
      "[25]\n"
     ]
    }
   ],
   "source": [
    "print(l2)"
   ]
  },
  {
   "cell_type": "code",
   "execution_count": 23,
   "id": "a5b44920",
   "metadata": {},
   "outputs": [],
   "source": [
    "l1.clear()"
   ]
  },
  {
   "cell_type": "code",
   "execution_count": 24,
   "id": "0ae9237f",
   "metadata": {},
   "outputs": [
    {
     "name": "stdout",
     "output_type": "stream",
     "text": [
      "[]\n"
     ]
    }
   ],
   "source": [
    "print(l1)"
   ]
  },
  {
   "cell_type": "code",
   "execution_count": 25,
   "id": "0d27a64f",
   "metadata": {},
   "outputs": [
    {
     "name": "stdout",
     "output_type": "stream",
     "text": [
      "[3, 2, 1]\n"
     ]
    }
   ],
   "source": [
    "l1 =[1,2,3]\n",
    "l1.reverse()\n",
    "print(l1)"
   ]
  },
  {
   "cell_type": "code",
   "execution_count": 26,
   "id": "1bcd3fa4",
   "metadata": {},
   "outputs": [
    {
     "data": {
      "text/plain": [
       "0"
      ]
     },
     "execution_count": 26,
     "metadata": {},
     "output_type": "execute_result"
    }
   ],
   "source": [
    "l1.index(3)"
   ]
  },
  {
   "cell_type": "code",
   "execution_count": 27,
   "id": "c2ea2b65",
   "metadata": {},
   "outputs": [
    {
     "ename": "ValueError",
     "evalue": "99 is not in list",
     "output_type": "error",
     "traceback": [
      "\u001b[1;31m---------------------------------------------------------------------------\u001b[0m",
      "\u001b[1;31mValueError\u001b[0m                                Traceback (most recent call last)",
      "\u001b[1;32m<ipython-input-27-f8dd06049b57>\u001b[0m in \u001b[0;36m<module>\u001b[1;34m\u001b[0m\n\u001b[1;32m----> 1\u001b[1;33m \u001b[0ml1\u001b[0m\u001b[1;33m.\u001b[0m\u001b[0mindex\u001b[0m\u001b[1;33m(\u001b[0m\u001b[1;36m99\u001b[0m\u001b[1;33m)\u001b[0m\u001b[1;33m\u001b[0m\u001b[1;33m\u001b[0m\u001b[0m\n\u001b[0m",
      "\u001b[1;31mValueError\u001b[0m: 99 is not in list"
     ]
    }
   ],
   "source": [
    "l1.index(99)"
   ]
  },
  {
   "cell_type": "code",
   "execution_count": 28,
   "id": "c6e4ce85",
   "metadata": {},
   "outputs": [],
   "source": [
    "l3 =[44,55,66]"
   ]
  },
  {
   "cell_type": "code",
   "execution_count": 29,
   "id": "fa524027",
   "metadata": {},
   "outputs": [
    {
     "data": {
      "text/plain": [
       "1"
      ]
     },
     "execution_count": 29,
     "metadata": {},
     "output_type": "execute_result"
    }
   ],
   "source": [
    "l3.index(55)"
   ]
  },
  {
   "cell_type": "code",
   "execution_count": 30,
   "id": "2fbf976a",
   "metadata": {},
   "outputs": [
    {
     "ename": "ValueError",
     "evalue": "88 is not in list",
     "output_type": "error",
     "traceback": [
      "\u001b[1;31m---------------------------------------------------------------------------\u001b[0m",
      "\u001b[1;31mValueError\u001b[0m                                Traceback (most recent call last)",
      "\u001b[1;32m<ipython-input-30-d4f04fbe9731>\u001b[0m in \u001b[0;36m<module>\u001b[1;34m\u001b[0m\n\u001b[1;32m----> 1\u001b[1;33m \u001b[0ml3\u001b[0m\u001b[1;33m.\u001b[0m\u001b[0mindex\u001b[0m\u001b[1;33m(\u001b[0m\u001b[1;36m88\u001b[0m\u001b[1;33m)\u001b[0m\u001b[1;33m\u001b[0m\u001b[1;33m\u001b[0m\u001b[0m\n\u001b[0m",
      "\u001b[1;31mValueError\u001b[0m: 88 is not in list"
     ]
    }
   ],
   "source": [
    "l3.index(88)"
   ]
  },
  {
   "cell_type": "code",
   "execution_count": 31,
   "id": "a95cc927",
   "metadata": {},
   "outputs": [
    {
     "name": "stdout",
     "output_type": "stream",
     "text": [
      "Not in list\n"
     ]
    }
   ],
   "source": [
    "if 88 in l3:\n",
    "    print(l3.index(88))\n",
    "else:\n",
    "    print('Not in list')"
   ]
  },
  {
   "cell_type": "code",
   "execution_count": 32,
   "id": "2c3308ac",
   "metadata": {},
   "outputs": [],
   "source": [
    "s1 = set()"
   ]
  },
  {
   "cell_type": "code",
   "execution_count": 33,
   "id": "f1597121",
   "metadata": {},
   "outputs": [],
   "source": [
    "s1.add(22)"
   ]
  },
  {
   "cell_type": "code",
   "execution_count": 34,
   "id": "e30cb991",
   "metadata": {},
   "outputs": [],
   "source": [
    "s1.add(22)"
   ]
  },
  {
   "cell_type": "code",
   "execution_count": 35,
   "id": "c15d8c02",
   "metadata": {},
   "outputs": [
    {
     "name": "stdout",
     "output_type": "stream",
     "text": [
      "{22}\n"
     ]
    }
   ],
   "source": [
    "print(s1)"
   ]
  },
  {
   "cell_type": "code",
   "execution_count": 36,
   "id": "b20dc0ad",
   "metadata": {},
   "outputs": [],
   "source": [
    "s1={22,33,44}"
   ]
  },
  {
   "cell_type": "code",
   "execution_count": 37,
   "id": "b780f1fc",
   "metadata": {},
   "outputs": [],
   "source": [
    "s1 = {11,22,33}\n",
    "s2 = {11,22}\n",
    "s3 ={44,55,66}"
   ]
  },
  {
   "cell_type": "code",
   "execution_count": 38,
   "id": "8f863a9c",
   "metadata": {},
   "outputs": [
    {
     "name": "stdout",
     "output_type": "stream",
     "text": [
      "{11, 22}\n"
     ]
    }
   ],
   "source": [
    "print(s1.intersection(s2))"
   ]
  },
  {
   "cell_type": "code",
   "execution_count": 39,
   "id": "7e4569cb",
   "metadata": {},
   "outputs": [
    {
     "name": "stdout",
     "output_type": "stream",
     "text": [
      "{33}\n"
     ]
    }
   ],
   "source": [
    "print(s1-s2)"
   ]
  },
  {
   "cell_type": "code",
   "execution_count": 40,
   "id": "993bb170",
   "metadata": {},
   "outputs": [
    {
     "name": "stdout",
     "output_type": "stream",
     "text": [
      "True\n"
     ]
    }
   ],
   "source": [
    "print(s1.issuperset(s2))"
   ]
  },
  {
   "cell_type": "code",
   "execution_count": 41,
   "id": "8a59dd85",
   "metadata": {},
   "outputs": [
    {
     "name": "stdout",
     "output_type": "stream",
     "text": [
      "True\n"
     ]
    }
   ],
   "source": [
    "print(s2.issubset(s1))"
   ]
  },
  {
   "cell_type": "code",
   "execution_count": 42,
   "id": "439b1b75",
   "metadata": {},
   "outputs": [
    {
     "name": "stdout",
     "output_type": "stream",
     "text": [
      "True\n"
     ]
    }
   ],
   "source": [
    "print(s1.isdisjoint(s3))"
   ]
  },
  {
   "cell_type": "code",
   "execution_count": 43,
   "id": "137eddaf",
   "metadata": {},
   "outputs": [],
   "source": [
    "d1 = {}\n",
    "d1 = dict()"
   ]
  },
  {
   "cell_type": "code",
   "execution_count": 44,
   "id": "982e116d",
   "metadata": {},
   "outputs": [],
   "source": [
    "d1['US']='United states'"
   ]
  },
  {
   "cell_type": "code",
   "execution_count": 45,
   "id": "4b2160d4",
   "metadata": {},
   "outputs": [],
   "source": [
    "d1['UK']='United kingdom'"
   ]
  },
  {
   "cell_type": "code",
   "execution_count": 46,
   "id": "14195b99",
   "metadata": {},
   "outputs": [
    {
     "name": "stdout",
     "output_type": "stream",
     "text": [
      "{'US': 'United states', 'UK': 'United kingdom'}\n"
     ]
    }
   ],
   "source": [
    "print(d1)"
   ]
  },
  {
   "cell_type": "code",
   "execution_count": 47,
   "id": "e0fb5738",
   "metadata": {},
   "outputs": [
    {
     "name": "stdout",
     "output_type": "stream",
     "text": [
      "United kingdom\n"
     ]
    }
   ],
   "source": [
    "print(d1['UK'])"
   ]
  },
  {
   "cell_type": "code",
   "execution_count": 48,
   "id": "620feecb",
   "metadata": {},
   "outputs": [],
   "source": [
    "d1['UK'] = 'Great Britian'"
   ]
  },
  {
   "cell_type": "code",
   "execution_count": 49,
   "id": "1c6530b1",
   "metadata": {},
   "outputs": [
    {
     "data": {
      "text/plain": [
       "'Great Britian'"
      ]
     },
     "execution_count": 49,
     "metadata": {},
     "output_type": "execute_result"
    }
   ],
   "source": [
    "d1['UK']"
   ]
  },
  {
   "cell_type": "code",
   "execution_count": 50,
   "id": "24ada48b",
   "metadata": {},
   "outputs": [
    {
     "name": "stdout",
     "output_type": "stream",
     "text": [
      "Great Britian\n"
     ]
    }
   ],
   "source": [
    "print(d1['UK'])"
   ]
  },
  {
   "cell_type": "code",
   "execution_count": 51,
   "id": "d7649f48",
   "metadata": {},
   "outputs": [
    {
     "ename": "KeyError",
     "evalue": "'IN'",
     "output_type": "error",
     "traceback": [
      "\u001b[1;31m---------------------------------------------------------------------------\u001b[0m",
      "\u001b[1;31mKeyError\u001b[0m                                  Traceback (most recent call last)",
      "\u001b[1;32m<ipython-input-51-088acd4a7eac>\u001b[0m in \u001b[0;36m<module>\u001b[1;34m\u001b[0m\n\u001b[1;32m----> 1\u001b[1;33m \u001b[0mprint\u001b[0m\u001b[1;33m(\u001b[0m\u001b[0md1\u001b[0m\u001b[1;33m[\u001b[0m\u001b[1;34m'IN'\u001b[0m\u001b[1;33m]\u001b[0m\u001b[1;33m)\u001b[0m\u001b[1;33m\u001b[0m\u001b[1;33m\u001b[0m\u001b[0m\n\u001b[0m",
      "\u001b[1;31mKeyError\u001b[0m: 'IN'"
     ]
    }
   ],
   "source": [
    "print(d1['IN'])"
   ]
  },
  {
   "cell_type": "code",
   "execution_count": 52,
   "id": "af8e894f",
   "metadata": {},
   "outputs": [
    {
     "data": {
      "text/plain": [
       "'Great Britian'"
      ]
     },
     "execution_count": 52,
     "metadata": {},
     "output_type": "execute_result"
    }
   ],
   "source": [
    "d1.get('UK')"
   ]
  },
  {
   "cell_type": "code",
   "execution_count": 53,
   "id": "9f37a75a",
   "metadata": {},
   "outputs": [],
   "source": [
    "d1.get('IN')"
   ]
  },
  {
   "cell_type": "code",
   "execution_count": 54,
   "id": "9bc08b13",
   "metadata": {},
   "outputs": [
    {
     "data": {
      "text/plain": [
       "True"
      ]
     },
     "execution_count": 54,
     "metadata": {},
     "output_type": "execute_result"
    }
   ],
   "source": [
    "'UK' in d1"
   ]
  },
  {
   "cell_type": "code",
   "execution_count": 55,
   "id": "dd584368",
   "metadata": {},
   "outputs": [],
   "source": [
    "del d1['UK']"
   ]
  },
  {
   "cell_type": "code",
   "execution_count": 56,
   "id": "5e4ba9cb",
   "metadata": {},
   "outputs": [
    {
     "name": "stdout",
     "output_type": "stream",
     "text": [
      "{'US': 'United states'}\n"
     ]
    }
   ],
   "source": [
    "print(d1)"
   ]
  },
  {
   "cell_type": "code",
   "execution_count": 57,
   "id": "3d890686",
   "metadata": {},
   "outputs": [],
   "source": [
    "d1.clear()"
   ]
  },
  {
   "cell_type": "code",
   "execution_count": 58,
   "id": "34f38384",
   "metadata": {},
   "outputs": [
    {
     "name": "stdout",
     "output_type": "stream",
     "text": [
      "{}\n"
     ]
    }
   ],
   "source": [
    "print(d1)"
   ]
  },
  {
   "cell_type": "code",
   "execution_count": 59,
   "id": "0f7077de",
   "metadata": {},
   "outputs": [],
   "source": [
    "d1 = {\"UK\":\"United kingdom\",\"US\":\"United states\"}"
   ]
  },
  {
   "cell_type": "code",
   "execution_count": 60,
   "id": "9b90ee16",
   "metadata": {},
   "outputs": [
    {
     "name": "stdout",
     "output_type": "stream",
     "text": [
      "UK\n",
      "United kingdom\n",
      "US\n",
      "United states\n"
     ]
    }
   ],
   "source": [
    "for k,v in d1.items():\n",
    "    print(k)\n",
    "    print(v)"
   ]
  },
  {
   "cell_type": "code",
   "execution_count": 61,
   "id": "12f64fba",
   "metadata": {},
   "outputs": [],
   "source": [
    "a = (\"John\", \"Charles\", \"Mike\")\n",
    "b = (\"Jenny\", \"Christy\", \"Monica\")\n",
    "\n",
    "x = zip(a, b)"
   ]
  },
  {
   "cell_type": "code",
   "execution_count": 62,
   "id": "838ee1d1",
   "metadata": {},
   "outputs": [
    {
     "name": "stdout",
     "output_type": "stream",
     "text": [
      "<zip object at 0x000001E3B3929780>\n"
     ]
    }
   ],
   "source": [
    "print(x)"
   ]
  },
  {
   "cell_type": "code",
   "execution_count": 63,
   "id": "2e670281",
   "metadata": {},
   "outputs": [
    {
     "name": "stdout",
     "output_type": "stream",
     "text": [
      "{'John': 'Jenny', 'Charles': 'Christy', 'Mike': 'Monica'}\n"
     ]
    }
   ],
   "source": [
    "d = dict(x)\n",
    "print(d)"
   ]
  },
  {
   "cell_type": "code",
   "execution_count": 64,
   "id": "fd17669f",
   "metadata": {},
   "outputs": [
    {
     "name": "stdout",
     "output_type": "stream",
     "text": [
      "{'John': 'Jenny', 'Charles': 'Christy', 'Mike': 'Monica'}\n"
     ]
    }
   ],
   "source": [
    "a = (\"John\", \"Charles\", \"Mike\")\n",
    "b = (\"Jenny\", \"Christy\", \"Monica\")\n",
    "print(dict(zip(a,b)))"
   ]
  },
  {
   "cell_type": "code",
   "execution_count": 65,
   "id": "f643bd7c",
   "metadata": {},
   "outputs": [],
   "source": [
    "t1 = (1,3)"
   ]
  },
  {
   "cell_type": "code",
   "execution_count": 66,
   "id": "a7bfc4bf",
   "metadata": {},
   "outputs": [
    {
     "data": {
      "text/plain": [
       "1"
      ]
     },
     "execution_count": 66,
     "metadata": {},
     "output_type": "execute_result"
    }
   ],
   "source": [
    "t1[0]"
   ]
  },
  {
   "cell_type": "code",
   "execution_count": 67,
   "id": "e25f8dd7",
   "metadata": {},
   "outputs": [
    {
     "ename": "TypeError",
     "evalue": "'tuple' object does not support item assignment",
     "output_type": "error",
     "traceback": [
      "\u001b[1;31m---------------------------------------------------------------------------\u001b[0m",
      "\u001b[1;31mTypeError\u001b[0m                                 Traceback (most recent call last)",
      "\u001b[1;32m<ipython-input-67-02e89d970106>\u001b[0m in \u001b[0;36m<module>\u001b[1;34m\u001b[0m\n\u001b[1;32m----> 1\u001b[1;33m \u001b[0mt1\u001b[0m\u001b[1;33m[\u001b[0m\u001b[1;36m0\u001b[0m\u001b[1;33m]\u001b[0m\u001b[1;33m=\u001b[0m \u001b[1;36m77\u001b[0m\u001b[1;33m\u001b[0m\u001b[1;33m\u001b[0m\u001b[0m\n\u001b[0m",
      "\u001b[1;31mTypeError\u001b[0m: 'tuple' object does not support item assignment"
     ]
    }
   ],
   "source": [
    "t1[0]= 77"
   ]
  },
  {
   "cell_type": "code",
   "execution_count": 68,
   "id": "05319f88",
   "metadata": {},
   "outputs": [
    {
     "ename": "TypeError",
     "evalue": "'tuple' object doesn't support item deletion",
     "output_type": "error",
     "traceback": [
      "\u001b[1;31m---------------------------------------------------------------------------\u001b[0m",
      "\u001b[1;31mTypeError\u001b[0m                                 Traceback (most recent call last)",
      "\u001b[1;32m<ipython-input-68-8940bcde932e>\u001b[0m in \u001b[0;36m<module>\u001b[1;34m\u001b[0m\n\u001b[1;32m----> 1\u001b[1;33m \u001b[1;32mdel\u001b[0m \u001b[0mt1\u001b[0m\u001b[1;33m[\u001b[0m\u001b[1;36m0\u001b[0m\u001b[1;33m]\u001b[0m\u001b[1;33m\u001b[0m\u001b[1;33m\u001b[0m\u001b[0m\n\u001b[0m",
      "\u001b[1;31mTypeError\u001b[0m: 'tuple' object doesn't support item deletion"
     ]
    }
   ],
   "source": [
    "del t1[0]"
   ]
  },
  {
   "cell_type": "code",
   "execution_count": null,
   "id": "61bddbb0",
   "metadata": {},
   "outputs": [],
   "source": []
  }
 ],
 "metadata": {
  "kernelspec": {
   "display_name": "Python 3",
   "language": "python",
   "name": "python3"
  },
  "language_info": {
   "codemirror_mode": {
    "name": "ipython",
    "version": 3
   },
   "file_extension": ".py",
   "mimetype": "text/x-python",
   "name": "python",
   "nbconvert_exporter": "python",
   "pygments_lexer": "ipython3",
   "version": "3.8.8"
  }
 },
 "nbformat": 4,
 "nbformat_minor": 5
}
