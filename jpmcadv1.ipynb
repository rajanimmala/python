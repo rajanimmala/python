{
 "cells": [
  {
   "cell_type": "code",
   "execution_count": 1,
   "id": "6f081fad",
   "metadata": {},
   "outputs": [],
   "source": [
    "class Sample:\n",
    "    #This stands for constructor\n",
    "    def __init__(self,a):\n",
    "        self.a=a\n",
    "        \n",
    "        \n",
    "    def display(self):\n",
    "        print('Value of a is',self.a)"
   ]
  },
  {
   "cell_type": "code",
   "execution_count": 2,
   "id": "647c6406",
   "metadata": {},
   "outputs": [],
   "source": [
    "s1 = Sample(34)#this calls init"
   ]
  },
  {
   "cell_type": "code",
   "execution_count": 3,
   "id": "6967de81",
   "metadata": {},
   "outputs": [
    {
     "name": "stdout",
     "output_type": "stream",
     "text": [
      "34\n"
     ]
    }
   ],
   "source": [
    "print(s1.a)"
   ]
  },
  {
   "cell_type": "code",
   "execution_count": 4,
   "id": "be5bdbef",
   "metadata": {},
   "outputs": [
    {
     "name": "stdout",
     "output_type": "stream",
     "text": [
      "Value of a is 34\n"
     ]
    }
   ],
   "source": [
    "s1.display()"
   ]
  },
  {
   "cell_type": "code",
   "execution_count": 6,
   "id": "a47a4fce",
   "metadata": {},
   "outputs": [],
   "source": [
    "class Student:\n",
    "    def __init__(self,name,age,rollNo):\n",
    "        self.name = name\n",
    "        self.age = age\n",
    "        self.rollNo=rollNo\n",
    "        \n",
    "    def displayName(self):\n",
    "        print(\"Name is\",self.name)\n",
    "        \n",
    "    def displayAge(self):\n",
    "        print(\"Age is\",self.age)\n",
    "        \n",
    "    def displayRollNo(self):\n",
    "        print(\"RollNo is\",self.rollNo)"
   ]
  },
  {
   "cell_type": "code",
   "execution_count": 7,
   "id": "dd998968",
   "metadata": {},
   "outputs": [],
   "source": [
    "stud1 = Student(\"John\",12,1)"
   ]
  },
  {
   "cell_type": "code",
   "execution_count": 8,
   "id": "67a91f00",
   "metadata": {},
   "outputs": [
    {
     "name": "stdout",
     "output_type": "stream",
     "text": [
      "Name is John\n"
     ]
    }
   ],
   "source": [
    "stud1.displayName()"
   ]
  },
  {
   "cell_type": "code",
   "execution_count": 9,
   "id": "5fcf0b31",
   "metadata": {},
   "outputs": [
    {
     "data": {
      "text/plain": [
       "int"
      ]
     },
     "execution_count": 9,
     "metadata": {},
     "output_type": "execute_result"
    }
   ],
   "source": [
    "type(stud1.age)"
   ]
  },
  {
   "cell_type": "code",
   "execution_count": 10,
   "id": "901c8016",
   "metadata": {},
   "outputs": [],
   "source": [
    "class Calculator:\n",
    "    def __init__(self,a=0,b =0):#Constructor overloading\n",
    "        self.a = a\n",
    "        self.b = b\n",
    "        \n",
    "    def add(self):\n",
    "        print(\"Sum is\",self.a+self.b)\n",
    "        \n",
    "    def sub(self):\n",
    "        print(\"Diff is\",self.a -self.b)\n",
    "        \n",
    "    def mul(self):\n",
    "        print(\"Product is\",self.a*self.b)\n",
    "        \n",
    "    def div(self):\n",
    "        print(\"Quotient\",self.a/self.b)"
   ]
  },
  {
   "cell_type": "code",
   "execution_count": 11,
   "id": "a972f3ea",
   "metadata": {},
   "outputs": [],
   "source": [
    "c1 = Calculator(10,2)"
   ]
  },
  {
   "cell_type": "code",
   "execution_count": 12,
   "id": "d7398030",
   "metadata": {},
   "outputs": [
    {
     "name": "stdout",
     "output_type": "stream",
     "text": [
      "Sum is 12\n"
     ]
    }
   ],
   "source": [
    "c1.add()"
   ]
  },
  {
   "cell_type": "code",
   "execution_count": 13,
   "id": "04e19717",
   "metadata": {},
   "outputs": [],
   "source": [
    "c2 = Calculator()\n"
   ]
  },
  {
   "cell_type": "code",
   "execution_count": 16,
   "id": "f8b0eb16",
   "metadata": {},
   "outputs": [
    {
     "name": "stdout",
     "output_type": "stream",
     "text": [
      "Sum is 0\n"
     ]
    }
   ],
   "source": [
    "c2.add()"
   ]
  },
  {
   "cell_type": "code",
   "execution_count": 17,
   "id": "90c33cf6",
   "metadata": {},
   "outputs": [],
   "source": [
    "c3 = Calculator(89)"
   ]
  },
  {
   "cell_type": "code",
   "execution_count": 18,
   "id": "3e29dcde",
   "metadata": {},
   "outputs": [
    {
     "name": "stdout",
     "output_type": "stream",
     "text": [
      "Sum is 89\n"
     ]
    }
   ],
   "source": [
    "c3.add()"
   ]
  },
  {
   "cell_type": "code",
   "execution_count": 19,
   "id": "866d21b7",
   "metadata": {},
   "outputs": [],
   "source": [
    "class Dummy:\n",
    "    pass"
   ]
  },
  {
   "cell_type": "code",
   "execution_count": 27,
   "id": "8e63f86e",
   "metadata": {},
   "outputs": [],
   "source": [
    "class Account:\n",
    "    def __init__(self,acctNum,customerName,branch):\n",
    "        self.acctNum = acctNum\n",
    "        self.customerName=customerName\n",
    "        self.branch = branch\n",
    "        \n",
    "    def display(self):\n",
    "        print(\"Account number\",self.acctNum,\"Customer name\",self.customerName,\"Branch\",self.branch)"
   ]
  },
  {
   "cell_type": "code",
   "execution_count": 28,
   "id": "d094654d",
   "metadata": {},
   "outputs": [],
   "source": [
    "class SavingAccount(Account):#Saving account is a child of Account\n",
    "    def __init__(self,acctNum,customerName,branch,interestRate):\n",
    "        Account.__init__(self,acctNum,customerName,branch)\n",
    "        self.interestRate=interestRate\n",
    "        \n",
    "    def displayInterestRate(self):\n",
    "        print(\"Interest rate\",self.interestRate)"
   ]
  },
  {
   "cell_type": "code",
   "execution_count": 29,
   "id": "87ef564b",
   "metadata": {},
   "outputs": [],
   "source": [
    "s1 = SavingAccount(\"1234\",\"John\",\"Mum\",10)"
   ]
  },
  {
   "cell_type": "code",
   "execution_count": 30,
   "id": "7059cdca",
   "metadata": {},
   "outputs": [
    {
     "name": "stdout",
     "output_type": "stream",
     "text": [
      "Account number 1234 Customer name John Branch Mum\n"
     ]
    }
   ],
   "source": [
    "s1.display()"
   ]
  },
  {
   "cell_type": "code",
   "execution_count": 31,
   "id": "39a34be8",
   "metadata": {},
   "outputs": [],
   "source": [
    "class CurrentAccount(Account):#Saving account is a child of Account\n",
    "    def __init__(self,acctNum,customerName,branch,balance):\n",
    "        Account.__init__(self,acctNum,customerName,branch)\n",
    "        self.balance=balance\n",
    "        \n",
    "    def displayBalance(self):\n",
    "        print(\"Balance\",self.balance)"
   ]
  },
  {
   "cell_type": "code",
   "execution_count": 32,
   "id": "c0757a3a",
   "metadata": {},
   "outputs": [],
   "source": [
    "c1 = CurrentAccount(1234,'Jim','Delhi',5000)"
   ]
  },
  {
   "cell_type": "code",
   "execution_count": 33,
   "id": "a25bac93",
   "metadata": {},
   "outputs": [
    {
     "name": "stdout",
     "output_type": "stream",
     "text": [
      "Account number 1234 Customer name Jim Branch Delhi\n"
     ]
    }
   ],
   "source": [
    "c1.display()"
   ]
  },
  {
   "cell_type": "code",
   "execution_count": 34,
   "id": "c6b2b5b8",
   "metadata": {},
   "outputs": [
    {
     "name": "stdout",
     "output_type": "stream",
     "text": [
      "Balance 5000\n"
     ]
    }
   ],
   "source": [
    "c1.displayBalance()"
   ]
  },
  {
   "cell_type": "code",
   "execution_count": 35,
   "id": "0866ee96",
   "metadata": {},
   "outputs": [],
   "source": [
    "class Parent1:\n",
    "    def __init__(self,a):\n",
    "        self.a = a\n",
    "        \n",
    "    def display(self):\n",
    "        print('a is',self.a)"
   ]
  },
  {
   "cell_type": "code",
   "execution_count": 36,
   "id": "d254802c",
   "metadata": {},
   "outputs": [],
   "source": [
    "class Parent2:\n",
    "    def __init__(self,b):\n",
    "        self.b = b\n",
    "        \n",
    "    def display(self):\n",
    "        print('b is',self.b)"
   ]
  },
  {
   "cell_type": "code",
   "execution_count": 37,
   "id": "51258f78",
   "metadata": {},
   "outputs": [],
   "source": [
    "class Child1(Parent1,Parent2):#Multiple inheritance..seq here play important role\n",
    "    def __init__(self,a,b):\n",
    "        Parent1.__init__(self,a)\n",
    "        Parent2.__init__(self,b)\n"
   ]
  },
  {
   "cell_type": "code",
   "execution_count": 38,
   "id": "f9c52ebc",
   "metadata": {},
   "outputs": [],
   "source": [
    "c1 = Child1(22,33)"
   ]
  },
  {
   "cell_type": "code",
   "execution_count": 39,
   "id": "e9024195",
   "metadata": {},
   "outputs": [
    {
     "data": {
      "text/plain": [
       "22"
      ]
     },
     "execution_count": 39,
     "metadata": {},
     "output_type": "execute_result"
    }
   ],
   "source": [
    "c1.a"
   ]
  },
  {
   "cell_type": "code",
   "execution_count": 40,
   "id": "ec1538d5",
   "metadata": {},
   "outputs": [
    {
     "data": {
      "text/plain": [
       "33"
      ]
     },
     "execution_count": 40,
     "metadata": {},
     "output_type": "execute_result"
    }
   ],
   "source": [
    "c1.b"
   ]
  },
  {
   "cell_type": "code",
   "execution_count": 41,
   "id": "9f238ee9",
   "metadata": {},
   "outputs": [
    {
     "name": "stdout",
     "output_type": "stream",
     "text": [
      "a is 22\n"
     ]
    }
   ],
   "source": [
    "c1.display()"
   ]
  },
  {
   "cell_type": "code",
   "execution_count": 42,
   "id": "62176614",
   "metadata": {},
   "outputs": [],
   "source": [
    "class Child2(Parent1,Parent2):#Multiple inheritance..seq here play important role\n",
    "    def __init__(self,a,b):\n",
    "        Parent1.__init__(self,a)\n",
    "        Parent2.__init__(self,b)\n",
    "        \n",
    "    def display(self):#Overiiding\n",
    "        print('a is',self.a)\n",
    "        print('b is',self.b)\n"
   ]
  },
  {
   "cell_type": "code",
   "execution_count": 43,
   "id": "d8a2f13a",
   "metadata": {},
   "outputs": [],
   "source": [
    "c2 = Child2(33,44)"
   ]
  },
  {
   "cell_type": "code",
   "execution_count": 44,
   "id": "fe8ca127",
   "metadata": {},
   "outputs": [
    {
     "name": "stdout",
     "output_type": "stream",
     "text": [
      "a is 33\n",
      "b is 44\n"
     ]
    }
   ],
   "source": [
    "c2.display()"
   ]
  },
  {
   "cell_type": "code",
   "execution_count": 45,
   "id": "7d9897fc",
   "metadata": {},
   "outputs": [
    {
     "name": "stdout",
     "output_type": "stream",
     "text": [
      "The sum is: 15\n"
     ]
    }
   ],
   "source": [
    "class MathsOp:\n",
    "\n",
    "    def addNumbers(x, y):\n",
    "        return x + y\n",
    "\n",
    "# create addNumbers static method\n",
    "MathsOp.addNumbers = staticmethod(MathsOp.addNumbers)\n",
    "\n",
    "print('The sum is:', MathsOp.addNumbers(5, 10))\n"
   ]
  },
  {
   "cell_type": "code",
   "execution_count": 46,
   "id": "b40683f7",
   "metadata": {},
   "outputs": [
    {
     "name": "stdout",
     "output_type": "stream",
     "text": [
      "15-12-2016\n"
     ]
    }
   ],
   "source": [
    "class Dates:\n",
    "    def __init__(self, date):\n",
    "        self.date = date\n",
    "        \n",
    "    def getDate(self):\n",
    "        return self.date\n",
    "\n",
    "    @staticmethod\n",
    "    def toDashDate(date):\n",
    "        return date.replace(\"/\", \"-\")\n",
    "\n",
    "date = Dates(\"15-12-2016\")\n",
    "dateFromDB = \"15/12/2016\"\n",
    "print(Dates.toDashDate(dateFromDB))\n",
    "\n",
    "\n",
    "\n"
   ]
  },
  {
   "cell_type": "code",
   "execution_count": 49,
   "id": "dba3007d",
   "metadata": {},
   "outputs": [],
   "source": [
    "class Sample4:\n",
    "    counter=0\n",
    "    \n",
    "    def __init__(self,a):\n",
    "        Sample4.counter = Sample4.counter +1\n",
    "        self.a=a\n",
    "    "
   ]
  },
  {
   "cell_type": "code",
   "execution_count": 50,
   "id": "57eea525",
   "metadata": {},
   "outputs": [],
   "source": [
    "s1 = Sample4(22)"
   ]
  },
  {
   "cell_type": "code",
   "execution_count": 51,
   "id": "f281c522",
   "metadata": {},
   "outputs": [
    {
     "data": {
      "text/plain": [
       "1"
      ]
     },
     "execution_count": 51,
     "metadata": {},
     "output_type": "execute_result"
    }
   ],
   "source": [
    "s1.counter"
   ]
  },
  {
   "cell_type": "code",
   "execution_count": 52,
   "id": "d6bc997e",
   "metadata": {},
   "outputs": [],
   "source": [
    "s2 = Sample4(22)"
   ]
  },
  {
   "cell_type": "code",
   "execution_count": 53,
   "id": "7e12eccd",
   "metadata": {},
   "outputs": [
    {
     "data": {
      "text/plain": [
       "2"
      ]
     },
     "execution_count": 53,
     "metadata": {},
     "output_type": "execute_result"
    }
   ],
   "source": [
    "Sample4.counter"
   ]
  },
  {
   "cell_type": "code",
   "execution_count": 85,
   "id": "e0740516",
   "metadata": {},
   "outputs": [],
   "source": [
    "class Complex:\n",
    "    \n",
    "    def __init__(self,real,img):\n",
    "        self.real =real\n",
    "        self.img=img\n",
    "        \n",
    "    def __add__(self,other):\n",
    "        res1 = self.real+other.real\n",
    "        res2 = self.img + other.img\n",
    "        return Complex(res1,res2)\n",
    "    \n",
    "    def __sub__(self,other):\n",
    "        res1 = self.real-other.real\n",
    "        res2 = self.img - other.img\n",
    "        return Complex(res1,res2)\n",
    "    \n",
    "    def __str__(self):\n",
    "        return \"Real:\"+str(self.real)+\" Img: \"+str(self.img)"
   ]
  },
  {
   "cell_type": "code",
   "execution_count": 86,
   "id": "f1894d8e",
   "metadata": {},
   "outputs": [],
   "source": [
    "c1 = Complex(3,4)"
   ]
  },
  {
   "cell_type": "code",
   "execution_count": 87,
   "id": "88d77606",
   "metadata": {},
   "outputs": [],
   "source": [
    "c2 = Complex(4,5)"
   ]
  },
  {
   "cell_type": "code",
   "execution_count": 88,
   "id": "be41e931",
   "metadata": {},
   "outputs": [],
   "source": [
    "c3 = c1+ c2 ##c1.__add__(c2)"
   ]
  },
  {
   "cell_type": "code",
   "execution_count": 89,
   "id": "363fa055",
   "metadata": {},
   "outputs": [
    {
     "data": {
      "text/plain": [
       "7"
      ]
     },
     "execution_count": 89,
     "metadata": {},
     "output_type": "execute_result"
    }
   ],
   "source": [
    "c3.real"
   ]
  },
  {
   "cell_type": "code",
   "execution_count": 90,
   "id": "d7abb4a8",
   "metadata": {},
   "outputs": [
    {
     "data": {
      "text/plain": [
       "9"
      ]
     },
     "execution_count": 90,
     "metadata": {},
     "output_type": "execute_result"
    }
   ],
   "source": [
    "c3.img"
   ]
  },
  {
   "cell_type": "code",
   "execution_count": 91,
   "id": "1f44c200",
   "metadata": {},
   "outputs": [],
   "source": [
    "c4 = c1 -c2"
   ]
  },
  {
   "cell_type": "code",
   "execution_count": 92,
   "id": "74406512",
   "metadata": {},
   "outputs": [
    {
     "data": {
      "text/plain": [
       "-1"
      ]
     },
     "execution_count": 92,
     "metadata": {},
     "output_type": "execute_result"
    }
   ],
   "source": [
    "c4.real"
   ]
  },
  {
   "cell_type": "code",
   "execution_count": 93,
   "id": "19ab6f7c",
   "metadata": {},
   "outputs": [
    {
     "data": {
      "text/plain": [
       "-1"
      ]
     },
     "execution_count": 93,
     "metadata": {},
     "output_type": "execute_result"
    }
   ],
   "source": [
    "c4.img"
   ]
  },
  {
   "cell_type": "code",
   "execution_count": 84,
   "id": "9b62aafe",
   "metadata": {},
   "outputs": [
    {
     "data": {
      "text/plain": [
       "'Real:-1Img:-1'"
      ]
     },
     "execution_count": 84,
     "metadata": {},
     "output_type": "execute_result"
    }
   ],
   "source": [
    "str(c4)"
   ]
  },
  {
   "cell_type": "code",
   "execution_count": 94,
   "id": "ef9deedc",
   "metadata": {},
   "outputs": [
    {
     "name": "stdout",
     "output_type": "stream",
     "text": [
      "Real:-1 Img: -1\n"
     ]
    }
   ],
   "source": [
    "print(c4)"
   ]
  },
  {
   "cell_type": "code",
   "execution_count": null,
   "id": "fba84111",
   "metadata": {},
   "outputs": [],
   "source": []
  }
 ],
 "metadata": {
  "kernelspec": {
   "display_name": "Python 3",
   "language": "python",
   "name": "python3"
  },
  "language_info": {
   "codemirror_mode": {
    "name": "ipython",
    "version": 3
   },
   "file_extension": ".py",
   "mimetype": "text/x-python",
   "name": "python",
   "nbconvert_exporter": "python",
   "pygments_lexer": "ipython3",
   "version": "3.8.8"
  }
 },
 "nbformat": 4,
 "nbformat_minor": 5
}
